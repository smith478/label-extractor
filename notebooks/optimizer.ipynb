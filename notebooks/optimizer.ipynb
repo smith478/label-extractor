{
 "cells": [
  {
   "cell_type": "code",
   "execution_count": null,
   "id": "dd43d7a7-6412-480c-b322-5851b311596f",
   "metadata": {},
   "outputs": [],
   "source": [
    "import pandas as pd\n",
    "from dspy.retrieve.qdrant_rm import QdrantRM\n",
    "from qdrant_client import QdrantClient\n",
    "import dspy\n",
    "from typing import List, Dict, Tuple\n",
    "import numpy as np\n",
    "import csv\n",
    "import os\n",
    "import json"
   ]
  },
  {
   "cell_type": "code",
   "execution_count": null,
   "id": "16040742-0ffe-4838-a943-1971eb8ca26c",
   "metadata": {},
   "outputs": [],
   "source": [
    "reports = [\n",
    "\"\"\"RADIOLOGY REPORT\n",
    "Exam: Chest X-ray (2 views)\n",
    "Date: XXXX, XXXX\n",
    "Indication: Fever, cough\n",
    "Findings: There is a focal area of consolidation in the right lower lobe. No pleural effusion or pneumothorax. The heart size is normal.\n",
    "IMPRESSION: Right lower lobe pneumonia.\n",
    "\"\"\",\n",
    "\n",
    "\"\"\"RADIOLOGY REPORT\n",
    "Exam: Chest radiograph\n",
    "Date: XXXX, XXXX\n",
    "Indication: Dyspnea\n",
    "Findings: Bilateral interstitial opacities consistent with pulmonary edema. The cardiac silhouette is enlarged. No pneumothorax.\n",
    "IMPRESSION: Cardiomegaly with pulmonary edema.\n",
    "\"\"\",\n",
    "\n",
    "\"\"\"RADIOLOGY REPORT\n",
    "Exam: Chest X-ray\n",
    "Date: XXXX, XXXX\n",
    "Indication: Chest pain\n",
    "Findings: No acute cardiopulmonary abnormality. Lungs are clear. Heart size and mediastinal contours are within normal limits.\n",
    "IMPRESSION: Normal chest X-ray.\n",
    "\"\"\",\n",
    "\n",
    "\"\"\"RADIOLOGY REPORT\n",
    "Exam: Chest radiograph\n",
    "Date: XXXX, XXXX\n",
    "Indication: Trauma\n",
    "Findings: Large left pneumothorax with partial lung collapse. No rib fractures visualized.\n",
    "IMPRESSION: Left pneumothorax, likely tension pneumothorax given the degree of lung collapse.\n",
    "\"\"\",\n",
    "\n",
    "\"\"\"RADIOLOGY REPORT\n",
    "Exam: Chest X-ray\n",
    "Date: XXXX, XXXX\n",
    "Indication: Post-operative evaluation\n",
    "Findings: Small bilateral pleural effusions, left greater than right. Mild pulmonary edema. Heart size is at the upper limits of normal.\n",
    "IMPRESSION: Bilateral pleural effusions with mild pulmonary edema.\n",
    "\"\"\",\n",
    "\n",
    "\"\"\"RADIOLOGY REPORT\n",
    "Exam: Portable chest X-ray\n",
    "Date: XXXX, XXXX\n",
    "Indication: Follow-up pneumonia\n",
    "Findings: Persistent right lower lobe consolidation, improved from prior. No pneumothorax or pleural effusion.\n",
    "IMPRESSION: Improving right lower lobe pneumonia.\n",
    "\"\"\",\n",
    "\n",
    "\"\"\"RADIOLOGY REPORT\n",
    "Exam: Chest radiograph\n",
    "Date: XXXX, XXXX\n",
    "Indication: Shortness of breath\n",
    "Findings: Diffuse bilateral airspace opacities consistent with pulmonary edema. The cardiac silhouette is markedly enlarged.\n",
    "IMPRESSION: Severe cardiomegaly with pulmonary edema.\n",
    "\"\"\",\n",
    "\n",
    "\"\"\"RADIOLOGY REPORT\n",
    "Exam: Chest X-ray\n",
    "Date: XXXX, XXXX\n",
    "Indication: COPD exacerbation\n",
    "Findings: Hyperinflated lung fields. No focal consolidation, pneumothorax, or pleural effusion. Heart size is normal.\n",
    "IMPRESSION: Changes consistent with COPD. No acute cardiopulmonary process.\n",
    "\"\"\",\n",
    "\n",
    "\"\"\"RADIOLOGY REPORT\n",
    "Exam: Chest radiograph\n",
    "Date: XXXX, XXXX\n",
    "Indication: Fever, productive cough\n",
    "Findings: Patchy consolidation in the right upper lobe. Small right pleural effusion. Heart size is normal.\n",
    "IMPRESSION: Right upper lobe pneumonia with parapneumonic effusion.\n",
    "\"\"\",\n",
    "\n",
    "\"\"\"RADIOLOGY REPORT\n",
    "Exam: Portable chest X-ray\n",
    "Date: XXXX, XXXX\n",
    "Indication: Assess ET tube placement\n",
    "Findings: ET tube is in proper position. Diffuse bilateral opacities consistent with ARDS. No pneumothorax.\n",
    "IMPRESSION: ARDS pattern. Properly positioned ET tube.\n",
    "\"\"\",\n",
    "\n",
    "\"\"\"RADIOLOGY REPORT\n",
    "Exam: Chest X-ray\n",
    "Date: XXXX, XXXX\n",
    "Indication: Annual check-up\n",
    "Findings: Clear lung fields. Normal heart size and mediastinal contours. No pleural effusion or pneumothorax.\n",
    "IMPRESSION: Normal chest X-ray.\n",
    "\"\"\",\n",
    "\n",
    "\"\"\"RADIOLOGY REPORT\n",
    "Exam: Chest radiograph\n",
    "Date: XXXX, XXXX\n",
    "Indication: Chest pain, shortness of breath\n",
    "Findings: Large left pleural effusion with associated atelectasis. The heart is shifted to the right. No pneumothorax.\n",
    "IMPRESSION: Large left pleural effusion with mediastinal shift.\n",
    "\"\"\",\n",
    "\n",
    "\"\"\"RADIOLOGY REPORT\n",
    "Exam: Chest X-ray\n",
    "Date: XXXX, XXXX\n",
    "Indication: Follow-up cardiomegaly\n",
    "Findings: Persistent cardiomegaly with no change from prior studies. No pulmonary edema, pleural effusion, or pneumothorax.\n",
    "IMPRESSION: Stable cardiomegaly without acute cardiopulmonary process.\n",
    "\"\"\",\n",
    "\n",
    "\"\"\"RADIOLOGY REPORT\n",
    "Exam: Portable chest radiograph\n",
    "Date: XXXX, XXXX\n",
    "Indication: Evaluate lung collapse\n",
    "Findings: Complete opacification of the left hemithorax with rightward mediastinal shift, consistent with total left lung collapse. Small left pneumothorax noted.\n",
    "IMPRESSION: Left lung collapse with small pneumothorax.\n",
    "\"\"\",\n",
    "\n",
    "\"\"\"RADIOLOGY REPORT\n",
    "Exam: Chest X-ray\n",
    "Date: XXXX, XXXX\n",
    "Indication: Cough, fever\n",
    "Findings: Patchy bilateral consolidations, more prominent in the lower lobes. No pleural effusion or pneumothorax. Heart size is normal.\n",
    "IMPRESSION: Bilateral pneumonia, likely viral.\n",
    "\"\"\",\n",
    "\"\"\"RADIOLOGY REPORT\n",
    "Exam: Chest X-ray (2 views)\n",
    "Date: XXXX, XXXX\n",
    "Indication: Shortness of breath\n",
    "Findings: Bilateral perihilar opacities consistent with pulmonary edema. The cardiac silhouette is enlarged. No pneumothorax or pleural effusion.\n",
    "IMPRESSION: Pulmonary edema with cardiomegaly.\n",
    "\"\"\",\n",
    "\"\"\"RADIOLOGY REPORT\n",
    "Exam: Chest radiograph\n",
    "Date: XXXX, XXXX\n",
    "Indication: Fever, cough\n",
    "Findings: Focal consolidation in the right lower lobe. No pleural effusion or pneumothorax. Heart size within normal limits.\n",
    "IMPRESSION: Right lower lobe pneumonia.\n",
    "\"\"\",\n",
    "\"\"\"RADIOLOGY REPORT\n",
    "Exam: Portable chest X-ray\n",
    "Date: XXXX, XXXX\n",
    "Indication: Post-operative evaluation\n",
    "Findings: Small bilateral pleural effusions, left greater than right. Lungs are otherwise clear. Heart size is normal.\n",
    "IMPRESSION: Bilateral pleural effusions, likely post-operative.\n",
    "\"\"\",\n",
    "\"\"\"RADIOLOGY REPORT\n",
    "Exam: Chest X-ray\n",
    "Date: XXXX, XXXX\n",
    "Indication: Trauma\n",
    "Findings: Large left pneumothorax with partial lung collapse. No rib fractures visualized. Heart size and mediastinal contours are normal.\n",
    "IMPRESSION: Left pneumothorax.\n",
    "\"\"\",\n",
    "\"\"\"RADIOLOGY REPORT\n",
    "Exam: Chest radiograph\n",
    "Date: XXXX, XXXX\n",
    "Indication: Annual check-up\n",
    "Findings: Clear lung fields. Normal heart size and mediastinal contours. No pleural effusion or pneumothorax.\n",
    "IMPRESSION: Normal chest X-ray.\n",
    "\"\"\",\n",
    "\"\"\"RADIOLOGY REPORT\n",
    "Exam: Chest X-ray (2 views)\n",
    "Date: XXXX, XXXX\n",
    "Indication: Chest pain, shortness of breath\n",
    "Findings: Diffuse bilateral airspace opacities consistent with pulmonary edema. The cardiac silhouette is markedly enlarged. Small bilateral pleural effusions.\n",
    "IMPRESSION: Severe cardiomegaly with pulmonary edema and pleural effusions.\n",
    "\"\"\",\n",
    "\"\"\"RADIOLOGY REPORT\n",
    "Exam: Portable chest radiograph\n",
    "Date: XXXX, XXXX\n",
    "Indication: Follow-up pneumonia\n",
    "Findings: Persistent right upper lobe consolidation, improved from prior. No pneumothorax or pleural effusion. Heart size is normal.\n",
    "IMPRESSION: Improving right upper lobe pneumonia.\n",
    "\"\"\",\n",
    "\"\"\"RADIOLOGY REPORT\n",
    "Exam: Chest X-ray\n",
    "Date: XXXX, XXXX\n",
    "Indication: COPD exacerbation\n",
    "Findings: Hyperinflated lung fields. No focal consolidation, pneumothorax, or pleural effusion. Heart size is normal.\n",
    "IMPRESSION: Changes consistent with COPD. No acute cardiopulmonary process.\n",
    "\"\"\",\n",
    "\"\"\"RADIOLOGY REPORT\n",
    "Exam: Chest radiograph\n",
    "Date: XXXX, XXXX\n",
    "Indication: Fever, productive cough\n",
    "Findings: Patchy consolidations in both lower lobes. Small right pleural effusion. Heart size is normal.\n",
    "IMPRESSION: Bilateral lower lobe pneumonia with small right pleural effusion.\n",
    "\"\"\",\n",
    "\"\"\"RADIOLOGY REPORT\n",
    "Exam: Chest X-ray\n",
    "Date: XXXX, XXXX\n",
    "Indication: Shortness of breath\n",
    "Findings: Increased interstitial markings bilaterally, consistent with pulmonary edema. The cardiac silhouette is mildly enlarged. No pneumothorax or pleural effusion.\n",
    "IMPRESSION: Mild pulmonary edema and cardiomegaly.\n",
    "\"\"\",\n",
    "\"\"\"RADIOLOGY REPORT\n",
    "Exam: Portable chest radiograph\n",
    "Date: XXXX, XXXX\n",
    "Indication: ICU follow-up\n",
    "Findings: Diffuse bilateral airspace opacities, worse than prior. Large right pleural effusion. Left pneumothorax with chest tube in place.\n",
    "IMPRESSION: Worsening bilateral pneumonia, right pleural effusion, and left pneumothorax with chest tube.\n",
    "\"\"\",\n",
    "\"\"\"RADIOLOGY REPORT\n",
    "Exam: Chest X-ray\n",
    "Date: XXXX, XXXX\n",
    "Indication: Pre-operative evaluation\n",
    "Findings: Clear lung fields. Normal heart size and mediastinal contours. No pleural effusion or pneumothorax.\n",
    "IMPRESSION: Normal chest X-ray.\n",
    "\"\"\",\n",
    "\"\"\"RADIOLOGY REPORT\n",
    "Exam: Chest radiograph\n",
    "Date: XXXX, XXXX\n",
    "Indication: Chest pain\n",
    "Findings: The cardiac silhouette is enlarged. Lungs are clear. No pneumothorax or pleural effusion.\n",
    "IMPRESSION: Cardiomegaly without acute pulmonary findings.\n",
    "\"\"\",\n",
    "\"\"\"RADIOLOGY REPORT\n",
    "Exam: Chest X-ray (2 views)\n",
    "Date: XXXX, XXXX\n",
    "Indication: Cough, fever\n",
    "Findings: Focal area of consolidation in the left lower lobe. No pleural effusion or pneumothorax. Heart size is normal.\n",
    "IMPRESSION: Left lower lobe pneumonia.\n",
    "\"\"\",\n",
    "\"\"\"RADIOLOGY REPORT\n",
    "Exam: Portable chest radiograph\n",
    "Date: XXXX, XXXX\n",
    "Indication: Dyspnea\n",
    "Findings: Bilateral interstitial and alveolar opacities consistent with pulmonary edema. The cardiac silhouette is at the upper limits of normal. Small bilateral pleural effusions.\n",
    "IMPRESSION: Pulmonary edema with small bilateral pleural effusions.\n",
    "\"\"\",\n",
    "\"\"\"RADIOLOGY REPORT\n",
    "Exam: Chest X-ray\n",
    "Date: XXXX, XXXX\n",
    "Indication: Follow-up lung nodule\n",
    "Findings: No focal consolidation, pneumothorax, or pleural effusion. Heart size and mediastinal contours are within normal limits. Previously noted lung nodule is stable.\n",
    "IMPRESSION: No acute cardiopulmonary process. Stable lung nodule.\n",
    "\"\"\",\n",
    "\"\"\"RADIOLOGY REPORT\n",
    "Exam: Chest radiograph\n",
    "Date: XXXX, XXXX\n",
    "Indication: Trauma\n",
    "Findings: Large right pneumothorax with partial lung collapse. Multiple rib fractures on the right side. Heart size and mediastinal contours are normal.\n",
    "IMPRESSION: Right pneumothorax with associated rib fractures.\n",
    "\"\"\",\n",
    "\"\"\"RADIOLOGY REPORT\n",
    "Exam: Chest X-ray (2 views)\n",
    "Date: XXXX, XXXX\n",
    "Indication: Shortness of breath, fever\n",
    "Findings: Patchy bilateral consolidations, more prominent in the lower lobes. Small bilateral pleural effusions. The cardiac silhouette is mildly enlarged.\n",
    "IMPRESSION: Bilateral pneumonia with small pleural effusions and mild cardiomegaly.\n",
    "\"\"\",\n",
    "\"\"\"RADIOLOGY REPORT\n",
    "Exam: Portable chest radiograph\n",
    "Date: XXXX, XXXX\n",
    "Indication: Post-cardiac surgery follow-up\n",
    "Findings: Stable cardiomegaly. Small left pleural effusion. No pneumothorax or pulmonary edema.\n",
    "IMPRESSION: Cardiomegaly with small left pleural effusion, likely post-operative.\n",
    "\"\"\",\n",
    "\"\"\"RADIOLOGY REPORT\n",
    "Exam: Chest X-ray\n",
    "Date: XXXX, XXXX\n",
    "Indication: Routine surveillance\n",
    "Findings: Clear lung fields. Normal heart size and mediastinal contours. No pleural effusion or pneumothorax.\n",
    "IMPRESSION: Normal chest X-ray.\n",
    "\"\"\"\n",
    "]"
   ]
  },
  {
   "cell_type": "code",
   "execution_count": null,
   "id": "cfc94dc1-468f-4f7e-b99e-6af86e02bebe",
   "metadata": {},
   "outputs": [],
   "source": [
    "ground_truth = [\n",
    "[\"consolidation\"],\n",
    "[\"pulmonary edema\", \"cardiomegaly\"],\n",
    "[],\n",
    "[\"pneumothorax\"],\n",
    "[\"pleural effusion\", \"pulmonary edema\"],\n",
    "[\"consolidation\"],\n",
    "[\"pulmonary edema\", \"cardiomegaly\"],\n",
    "[],\n",
    "[\"consolidation\", \"pleural effusion\"],\n",
    "[],\n",
    "[],\n",
    "[\"pleural effusion\"],\n",
    "[\"cardiomegaly\"],\n",
    "[\"pneumothorax\"],\n",
    "[\"consolidation\"],\n",
    "[\"pulmonary edema\", \"cardiomegaly\"],\n",
    "[\"consolidation\"],\n",
    "[\"pleural effusion\"],\n",
    "[\"pneumothorax\"],\n",
    "[],\n",
    "[\"pulmonary edema\", \"cardiomegaly\", \"pleural effusion\"],\n",
    "[\"consolidation\"],\n",
    "[],\n",
    "[\"consolidation\", \"pleural effusion\"],\n",
    "[\"pulmonary edema\", \"cardiomegaly\"],\n",
    "[\"consolidation\", \"pleural effusion\", \"pneumothorax\"],\n",
    "[],\n",
    "[\"cardiomegaly\"],\n",
    "[\"consolidation\"],\n",
    "[\"pulmonary edema\", \"pleural effusion\"],\n",
    "[],\n",
    "[\"pneumothorax\"],\n",
    "[\"consolidation\", \"pleural effusion\", \"cardiomegaly\"],\n",
    "[\"cardiomegaly\", \"pleural effusion\"],\n",
    "[]\n",
    "]\n",
    "classes = [\"pulmonary edema\", \"consolidation\", \"pleural effusion\", \"pneumothorax\", \"cardiomegaly\"]"
   ]
  },
  {
   "cell_type": "code",
   "execution_count": null,
   "id": "f104d5d6-57e6-47fa-b85a-50429963e523",
   "metadata": {},
   "outputs": [],
   "source": [
    "len(reports)"
   ]
  },
  {
   "cell_type": "code",
   "execution_count": null,
   "id": "ad772ef0-d9fd-4a0c-ad55-c654e88f9b9a",
   "metadata": {},
   "outputs": [],
   "source": [
    "len(ground_truth)"
   ]
  },
  {
   "cell_type": "code",
   "execution_count": null,
   "id": "940c8f4c-9838-42d2-8205-0fbfd91a84f3",
   "metadata": {},
   "outputs": [],
   "source": [
    "class ClassifyText(dspy.Signature):\n",
    "    \"\"\"Classify the radiology into multiple labels from the given candidates. You should return the \n",
    "    extracted information as a single JSON string with a key for each candidate label and a value of\n",
    "    1 if the report indicates the presence of the abnormality and 0 otherwise. There should be no \n",
    "    text or explanation, only the JSON. For example if there \n",
    "    were 3 candidates you could have the following output:\n",
    "\n",
    "    {\n",
    "        \"label_1\": 1,\n",
    "        \"label_2\": 0,\n",
    "        \"label_3\": 1\n",
    "    }\"\"\"\n",
    "    text = dspy.InputField()\n",
    "    label_candidates = dspy.InputField(desc=\"List of candidate labels for the text\")\n",
    "    rad_labels = dspy.OutputField(desc=\"Dictionary of candidate labels, 1 or 0, for the text\")\n",
    "\n",
    "class RAGMultiLabelClassifier(dspy.Module):\n",
    "    def __init__(self, num_candidates=3):\n",
    "        super().__init__()\n",
    "        self.retrieve = dspy.Retrieve(k=num_candidates)\n",
    "        self.classify = dspy.Predict(ClassifyText)\n",
    "\n",
    "    def forward(self, text):\n",
    "        retrieved_docs = ','.join(self.retrieve(text).passages)\n",
    "        classification_result = self.classify(text=text, label_candidates=retrieved_docs)\n",
    "        return classification_result.rad_labels\n",
    "    \n",
    "def build_retriever_client(labels: List[str], collection_name: str, k: int, vectorizer: str = None) -> QdrantRM:\n",
    "    client = QdrantClient(\":memory:\")\n",
    "    ids = list(range(len(labels)))\n",
    "    \n",
    "    if vectorizer:\n",
    "        client.set_model(vectorizer)\n",
    "        \n",
    "    client.add(\n",
    "        collection_name=collection_name,\n",
    "        documents=labels,\n",
    "        ids=ids\n",
    "    )\n",
    "    return QdrantRM(collection_name, client, k=k)"
   ]
  },
  {
   "cell_type": "code",
   "execution_count": null,
   "id": "85fc095d-7e7b-4ce3-8ae2-343e8753efaa",
   "metadata": {},
   "outputs": [],
   "source": [
    "def clean_json_string(json_str: str) -> str:\n",
    "    # Remove the backticks and the \"json\" text\n",
    "    return json_str.replace('```json\\n', '').replace('\\n```', '')\n",
    "\n",
    "def parse_ollama_output(output_str: str, clean_values: bool = True) -> List[str]:\n",
    "    if clean_values:\n",
    "        # Remove the backticks and the \"json\" text\n",
    "        output_str = clean_json_string(output_str)\n",
    "    output_dict = json.loads(output_str)\n",
    "    predicted_classes = [key for key, value in output_dict.items() if value == 1]\n",
    "    return predicted_classes"
   ]
  },
  {
   "cell_type": "code",
   "execution_count": null,
   "id": "6c9339bc-83ca-4b03-9ec7-14b8fcd115df",
   "metadata": {},
   "outputs": [],
   "source": [
    "vectorizer = \"intfloat/multilingual-e5-large\"\n",
    "ollama_model_name = 'gemma2'"
   ]
  },
  {
   "cell_type": "code",
   "execution_count": null,
   "id": "bff261c1-f950-47e8-b52f-7ad2ac11f264",
   "metadata": {},
   "outputs": [],
   "source": [
    "retriever_model = build_retriever_client(labels=classes, \n",
    "                                         collection_name=\"rad\", \n",
    "                                         k=3, \n",
    "                                         vectorizer=vectorizer)"
   ]
  },
  {
   "cell_type": "code",
   "execution_count": null,
   "id": "1b72631a-f202-4dad-b3a8-1def51c282df",
   "metadata": {},
   "outputs": [],
   "source": [
    "# ollama_model = dspy.OllamaLocal(\n",
    "#     model=ollama_model_name, \n",
    "#     model_type='text',\n",
    "#     max_tokens=512,\n",
    "#     temperature=0,\n",
    "#     top_p=1,\n",
    "#     frequency_penalty=0,\n",
    "#     top_k=5,\n",
    "#     format='json'\n",
    "# )"
   ]
  },
  {
   "cell_type": "markdown",
   "id": "527c088e-06ba-44ca-86ad-9508bd549042",
   "metadata": {},
   "source": [
    "#### We may need to create a custom Ollama model with a copy method"
   ]
  },
  {
   "cell_type": "code",
   "execution_count": null,
   "id": "eda746ef-b207-4715-8d2e-050ea4b8d74a",
   "metadata": {},
   "outputs": [],
   "source": [
    "import logging\n",
    "\n",
    "# Set up logging\n",
    "logging.basicConfig(level=logging.DEBUG)\n",
    "logger = logging.getLogger(__name__)"
   ]
  },
  {
   "cell_type": "code",
   "execution_count": null,
   "id": "49212a80-9341-400f-a100-84b00397f03a",
   "metadata": {},
   "outputs": [],
   "source": [
    "# class CustomOllamaLocal(dspy.OllamaLocal):\n",
    "#     def copy(self, **kwargs):\n",
    "#         new_kwargs = self.__dict__.copy()\n",
    "#         new_kwargs.update(kwargs)\n",
    "#         return CustomOllamaLocal(**new_kwargs)\n",
    "\n",
    "class CustomOllamaLocal(dspy.OllamaLocal):\n",
    "    def __init__(self, model, **kwargs):\n",
    "        logger.debug(f\"Initializing CustomOllamaLocal with model: {model}\")\n",
    "        self.model = model  # Explicitly set the model attribute\n",
    "        super().__init__(model=model, **kwargs)\n",
    "        \n",
    "    def copy(self, **kwargs):\n",
    "        logger.debug(f\"Copying CustomOllamaLocal with kwargs: {kwargs}\")\n",
    "        new_kwargs = self.__dict__.copy()\n",
    "        new_kwargs.update(kwargs)\n",
    "        return CustomOllamaLocal(**new_kwargs)\n",
    "    \n",
    "    def basic_request(self, prompt, **kwargs):\n",
    "        logger.debug(f\"Making basic request with model: {self.model}\")\n",
    "        return super().basic_request(prompt, **kwargs)"
   ]
  },
  {
   "cell_type": "code",
   "execution_count": null,
   "id": "e95ad987-c71c-411e-9730-ab79ca7c8e04",
   "metadata": {},
   "outputs": [],
   "source": [
    "ollama_model = CustomOllamaLocal(\n",
    "    model=ollama_model_name, \n",
    "    model_type='text',\n",
    "    max_tokens=512,\n",
    "    temperature=0,\n",
    "    top_p=1,\n",
    "    frequency_penalty=0,\n",
    "    top_k=5,\n",
    "    format='json'\n",
    ")"
   ]
  },
  {
   "cell_type": "code",
   "execution_count": null,
   "id": "4d229557-4dfc-4bf4-b991-290f77d5f360",
   "metadata": {},
   "outputs": [],
   "source": [
    "logger.debug(f\"Created ollama_model with model: {ollama_model.model_name}\")"
   ]
  },
  {
   "cell_type": "code",
   "execution_count": null,
   "id": "a268d90d-8c0b-4875-a881-86debb814a02",
   "metadata": {},
   "outputs": [],
   "source": [
    "dspy.settings.configure(lm=ollama_model, rm=retriever_model)\n",
    "classifier = RAGMultiLabelClassifier(num_candidates=3)"
   ]
  },
  {
   "cell_type": "markdown",
   "id": "2cf88926-71d8-46c2-badf-fb2c87a70c18",
   "metadata": {},
   "source": [
    "## DSPy Optimizer"
   ]
  },
  {
   "cell_type": "code",
   "execution_count": null,
   "id": "aaceb7cf-8bc5-4092-bdfd-e00efa6d0bdf",
   "metadata": {},
   "outputs": [],
   "source": [
    "def accuracy(pred, gold):\n",
    "    pred_set = set(pred)\n",
    "    gold_set = set(gold)\n",
    "    return int(pred_set == gold_set)\n",
    "\n",
    "# metric = dspy.Metric(accuracy)"
   ]
  },
  {
   "cell_type": "code",
   "execution_count": null,
   "id": "7e3845bc-29ce-474f-b710-b4b715b33ad4",
   "metadata": {},
   "outputs": [],
   "source": [
    "def evaluate_model(model, dataset):\n",
    "    total_accuracy = 0\n",
    "    for example in dataset:\n",
    "        result_str = model(text=example['text'])\n",
    "        predicted_classes = parse_ollama_output(result_str)\n",
    "        total_accuracy += accuracy(predicted_classes, example['ground_truth'])\n",
    "    return total_accuracy / len(dataset)"
   ]
  },
  {
   "cell_type": "code",
   "execution_count": null,
   "id": "80be34b6-d0d9-43d6-8b9b-5b76d487fe6c",
   "metadata": {},
   "outputs": [],
   "source": [
    "dataset = [{'text': report, 'ground_truth': label} for report, label in zip(reports, ground_truth)]\n",
    "\n",
    "# dataset = [\n",
    "#     {'text': reports[0], 'ground_truth': ground_truth[0]},\n",
    "#     {'text': reports[1], 'ground_truth': ground_truth[1]},\n",
    "#     # Add more examples as needed\n",
    "# ]"
   ]
  },
  {
   "cell_type": "markdown",
   "id": "97547dd3-800d-4776-acd2-00cab85be840",
   "metadata": {},
   "source": [
    "## Test uncompiled inference"
   ]
  },
  {
   "cell_type": "code",
   "execution_count": null,
   "id": "2183a7c5-ffea-48a5-a2e0-0e063ce2098c",
   "metadata": {},
   "outputs": [],
   "source": [
    "# Evaluate before compilation\n",
    "print(\"Accuracy before compilation:\", evaluate_model(classifier, dataset))"
   ]
  },
  {
   "cell_type": "code",
   "execution_count": null,
   "id": "d212b05f-709b-4cdf-b6b5-1364a5adab24",
   "metadata": {},
   "outputs": [],
   "source": [
    "reports[1]"
   ]
  },
  {
   "cell_type": "code",
   "execution_count": null,
   "id": "18006871-a277-4323-a08a-fb72081b5bb4",
   "metadata": {},
   "outputs": [],
   "source": [
    "ground_truth[1]"
   ]
  },
  {
   "cell_type": "code",
   "execution_count": null,
   "id": "5982fdc4-186d-48ca-a03e-ce317f920790",
   "metadata": {},
   "outputs": [],
   "source": [
    "parse_ollama_output(classifier(reports[1]))"
   ]
  },
  {
   "cell_type": "markdown",
   "id": "b4748318-7e5e-4b80-8152-7ea22f9144fb",
   "metadata": {},
   "source": [
    "## Create dspy `Example` dataset"
   ]
  },
  {
   "cell_type": "code",
   "execution_count": null,
   "id": "79301287-a48d-4c43-b474-bd5c46be325b",
   "metadata": {},
   "outputs": [],
   "source": [
    "data = [dspy.Example(ground_truth=label, text=report).with_inputs(\"text\") for report, label in zip(reports, ground_truth)]\n"
   ]
  },
  {
   "cell_type": "code",
   "execution_count": null,
   "id": "8e0f08c3-bde3-4018-bddc-94acdde6b451",
   "metadata": {},
   "outputs": [],
   "source": [
    "trainset = data[:20]\n",
    "devset = data[20:30]\n",
    "testset = data[30:]"
   ]
  },
  {
   "cell_type": "markdown",
   "id": "c2972f22-441e-428d-a201-38d692ce1931",
   "metadata": {},
   "source": [
    "## Create metric"
   ]
  },
  {
   "cell_type": "code",
   "execution_count": null,
   "id": "c16c3807-6dbf-447c-b690-744f152414d4",
   "metadata": {},
   "outputs": [],
   "source": [
    "def metric(gold, pred, trace=None):\n",
    "    predicted_classes = parse_ollama_output(pred)\n",
    "    acc = accuracy(predicted_classes, gold.ground_truth)\n",
    "\n",
    "    return acc"
   ]
  },
  {
   "cell_type": "markdown",
   "id": "52c175a4-c16b-499e-a65b-836064d25fbd",
   "metadata": {},
   "source": [
    "### Bootstrap Few-Shot optimizer"
   ]
  },
  {
   "cell_type": "code",
   "execution_count": null,
   "id": "1826a217-db16-4f78-ad32-e9cdc10bdb15",
   "metadata": {},
   "outputs": [],
   "source": [
    "from dspy.teleprompt import BootstrapFewShot"
   ]
  },
  {
   "cell_type": "code",
   "execution_count": null,
   "id": "c043bfc9-519c-489a-a2d3-1ec34ab67e2e",
   "metadata": {},
   "outputs": [],
   "source": [
    "teleprompter = BootstrapFewShot(metric=metric, max_labeled_demos=8, max_rounds=3)"
   ]
  },
  {
   "cell_type": "code",
   "execution_count": null,
   "id": "5d0777df-fdfd-4c8c-88af-0c2ff8f0a149",
   "metadata": {},
   "outputs": [],
   "source": [
    "compiled_rag = teleprompter.compile(classifier, trainset=trainset)"
   ]
  },
  {
   "cell_type": "code",
   "execution_count": null,
   "id": "845aa186-18bc-4ada-ac01-07de8b7f69c4",
   "metadata": {},
   "outputs": [],
   "source": [
    "# Evaluate after compilation\n",
    "print(\"Accuracy after compilation:\", evaluate_model(compiled_rag, dataset))"
   ]
  },
  {
   "cell_type": "markdown",
   "id": "1d78bd24-bdf4-4d4f-b5ab-abf070f1e140",
   "metadata": {},
   "source": [
    "## Bootstrap few shot with random search"
   ]
  },
  {
   "cell_type": "code",
   "execution_count": null,
   "id": "137317b5-40df-424b-88a6-89fb0a340fac",
   "metadata": {},
   "outputs": [],
   "source": [
    "from dspy.teleprompt import BootstrapFewShotWithRandomSearch"
   ]
  },
  {
   "cell_type": "code",
   "execution_count": null,
   "id": "0c9d4e4d-1c89-4d5d-978f-e12d35abdb6e",
   "metadata": {},
   "outputs": [],
   "source": [
    "teleprompter = BootstrapFewShotWithRandomSearch(metric=metric, \n",
    "                                                max_bootstrapped_demos=4,\n",
    "                                                max_labeled_demos=4,\n",
    "                                                max_rounds=3,\n",
    "                                                num_candidate_programs=2,\n",
    "                                                num_threads=2\n",
    "                                               )"
   ]
  },
  {
   "cell_type": "code",
   "execution_count": null,
   "id": "cf4783b8-0422-4d63-95ba-4a7a872f19a5",
   "metadata": {},
   "outputs": [],
   "source": [
    "compiled_rag_2 = teleprompter.compile(classifier, trainset=trainset)"
   ]
  },
  {
   "cell_type": "markdown",
   "id": "cd14e9d8-d519-4f8a-937c-fc4980ad04de",
   "metadata": {},
   "source": [
    "## Bayesian optimizer"
   ]
  },
  {
   "cell_type": "code",
   "execution_count": null,
   "id": "b8697f36-75fb-44a0-bbaa-51362d33de89",
   "metadata": {},
   "outputs": [],
   "source": [
    "from dspy.teleprompt import BayesianSignatureOptimizer"
   ]
  },
  {
   "cell_type": "code",
   "execution_count": null,
   "id": "fd6cd174-0965-4b1e-86a2-166384c71e53",
   "metadata": {},
   "outputs": [],
   "source": [
    "model_name = 'llama3'\n",
    "\n",
    "llm_prompter = CustomOllamaLocal(\n",
    "    model=ollama_model_name, \n",
    "    model_type='chat',\n",
    "    max_tokens=1024,\n",
    "    temperature=0,\n",
    "    top_p=1,\n",
    "    frequency_penalty=0,\n",
    "    top_k=5\n",
    ")"
   ]
  },
  {
   "cell_type": "code",
   "execution_count": null,
   "id": "10be41d4-1dc0-4f38-a81d-72753702c501",
   "metadata": {},
   "outputs": [],
   "source": [
    "teleprompter = BayesianSignatureOptimizer(task_model=dspy.settings.lm,\n",
    "                                          metric=metric,\n",
    "                                          prompt_model=llm_prompter,\n",
    "                                          n=5,\n",
    "                                          verbose=False\n",
    "                                         )"
   ]
  },
  {
   "cell_type": "code",
   "execution_count": null,
   "id": "84a9aac5-4c12-4462-a540-7dfacd66dc49",
   "metadata": {},
   "outputs": [],
   "source": [
    "kwargs = dict(num_threads=1, display_progress=True, display_table=0)"
   ]
  },
  {
   "cell_type": "code",
   "execution_count": null,
   "id": "da02c679-5861-4c6b-b1d5-2f3259bd792e",
   "metadata": {},
   "outputs": [],
   "source": [
    "compiled_rag_3 = teleprompter.compile(classifier, devset=devset,\n",
    "                                      optuna_trials_num=3,\n",
    "                                      max_bootstrapped_demos=4,\n",
    "                                      max_labeled_demos=4,\n",
    "                                      eval_kwargs=kwargs\n",
    "                                     )"
   ]
  },
  {
   "cell_type": "code",
   "execution_count": null,
   "id": "66dd0718-5837-405c-b911-409caad998b7",
   "metadata": {},
   "outputs": [],
   "source": []
  },
  {
   "cell_type": "code",
   "execution_count": null,
   "id": "7b81f33b-e6c5-497e-8d75-66c531937b51",
   "metadata": {},
   "outputs": [],
   "source": []
  },
  {
   "cell_type": "code",
   "execution_count": null,
   "id": "9b535189-5d35-420f-8c6e-4a22827240de",
   "metadata": {},
   "outputs": [],
   "source": [
    "# Bayesian Signature Optimizer\n",
    "bayesian_optimizer = dspy.BayesianSignatureOptimizer(metric=accuracy, num_samples=5, num_trials=2)\n",
    "# bayesian_optimizer = dspy.BayesianSignatureOptimizer(metric=metric, num_samples=5, num_trials=2)\n",
    "compiled_bayesian = bayesian_optimizer.compile(teleprompter, trainset=dataset)\n",
    "\n",
    "print(\"Accuracy after BayesianSignatureOptimizer:\", evaluate_model(compiled_bayesian, dataset))"
   ]
  }
 ],
 "metadata": {
  "kernelspec": {
   "display_name": "Python 3 (ipykernel)",
   "language": "python",
   "name": "python3"
  },
  "language_info": {
   "codemirror_mode": {
    "name": "ipython",
    "version": 3
   },
   "file_extension": ".py",
   "mimetype": "text/x-python",
   "name": "python",
   "nbconvert_exporter": "python",
   "pygments_lexer": "ipython3",
   "version": "3.11.9"
  }
 },
 "nbformat": 4,
 "nbformat_minor": 5
}
