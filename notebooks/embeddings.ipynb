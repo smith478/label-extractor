{
 "cells": [
  {
   "cell_type": "code",
   "execution_count": null,
   "id": "acdd3f90-d8ef-40e1-b235-b7d7424c47e1",
   "metadata": {},
   "outputs": [],
   "source": [
    "import sys\n",
    "sys.path.append('..') "
   ]
  },
  {
   "cell_type": "code",
   "execution_count": null,
   "id": "babda44a-1ec0-4760-a666-035383a9cce8",
   "metadata": {},
   "outputs": [],
   "source": [
    "import pandas as pd\n",
    "from sklearn.metrics.pairwise import cosine_similarity"
   ]
  },
  {
   "cell_type": "code",
   "execution_count": null,
   "id": "76742113-315d-4061-a21f-4c5ec9d61034",
   "metadata": {},
   "outputs": [],
   "source": [
    "from embeddings import get_embeddings, compute_similarity"
   ]
  },
  {
   "cell_type": "code",
   "execution_count": null,
   "id": "bcd14faa-a0cd-4933-9d71-a6148f125476",
   "metadata": {},
   "outputs": [],
   "source": [
    "MODEL_PATH = '../models/intfloat/e5-base-v2'"
   ]
  },
  {
   "cell_type": "markdown",
   "id": "e959a2f2-eb47-4030-9d2b-439d13f6bae7",
   "metadata": {},
   "source": [
    "## Load models\n",
    "\n",
    "We will load our model from disk. To download a new sentence transformer model, use `download_sentence_transformer_model.py` in the root of the project"
   ]
  },
  {
   "cell_type": "code",
   "execution_count": null,
   "id": "7a51e374-e2ae-4985-b1a9-4918ec264973",
   "metadata": {},
   "outputs": [],
   "source": [
    "from sentence_transformers import SentenceTransformer\n",
    "\n",
    "def load_sentence_transformer_model_from_disk(save_directory):\n",
    "    \"\"\"\n",
    "    Loads a pre-trained Sentence Transformer model from disk.\n",
    "\n",
    "    Args:\n",
    "    save_directory (str): The directory where the model is saved.\n",
    "\n",
    "    Returns:\n",
    "    model: The loaded pre-trained Sentence Transformer model.\n",
    "    \"\"\"\n",
    "    # Load the model\n",
    "    model = SentenceTransformer(save_directory)\n",
    "    \n",
    "    print(f\"Sentence Transformer model loaded from {save_directory}\")\n",
    "    return model"
   ]
  },
  {
   "cell_type": "code",
   "execution_count": null,
   "id": "ee53f3f1-00d4-4c8a-810d-3e18b0d74078",
   "metadata": {},
   "outputs": [],
   "source": [
    "model = load_sentence_transformer_model_from_disk(save_directory=MODEL_PATH)"
   ]
  },
  {
   "cell_type": "markdown",
   "id": "c6a3b36b-e3bd-4c68-b911-397281fda2bd",
   "metadata": {},
   "source": [
    "## Get embeddings"
   ]
  },
  {
   "cell_type": "code",
   "execution_count": null,
   "id": "0ad06d4a-35aa-476f-888e-caffaa3a8d2b",
   "metadata": {},
   "outputs": [],
   "source": [
    "embedding_1 = model.encode(['This is a sentence.', 'This is another sentence.'])"
   ]
  },
  {
   "cell_type": "code",
   "execution_count": null,
   "id": "9db2b8cb-6c50-4077-b32c-1ed9f51e2d77",
   "metadata": {},
   "outputs": [],
   "source": [
    "embedding_1.shape"
   ]
  },
  {
   "cell_type": "markdown",
   "id": "ea13371f-af75-45a1-abba-139ed0183fd6",
   "metadata": {},
   "source": [
    "## Calculate the similarity between vectors"
   ]
  },
  {
   "cell_type": "code",
   "execution_count": null,
   "id": "453d5ae3-2530-4f6a-a093-b9734027b066",
   "metadata": {},
   "outputs": [],
   "source": [
    "similarity = cosine_similarity(embedding_1)"
   ]
  },
  {
   "cell_type": "code",
   "execution_count": null,
   "id": "cfcf7636-ff18-4779-a7ce-31207571a97d",
   "metadata": {},
   "outputs": [],
   "source": [
    "similarity"
   ]
  },
  {
   "cell_type": "markdown",
   "id": "197524c1-0961-40d5-858c-ba8769389f52",
   "metadata": {},
   "source": [
    "## Import radiology data"
   ]
  },
  {
   "cell_type": "code",
   "execution_count": null,
   "id": "b1346827-8ada-4c0f-a00f-29073584d547",
   "metadata": {},
   "outputs": [],
   "source": [
    "df = pd.read_csv('../data/ReportsDATASET.csv')"
   ]
  },
  {
   "cell_type": "code",
   "execution_count": null,
   "id": "81b4f931-e149-4b93-9681-4ced6f5bca2b",
   "metadata": {},
   "outputs": [],
   "source": [
    "sample_report = df['Text'][12]"
   ]
  },
  {
   "cell_type": "code",
   "execution_count": null,
   "id": "d8cea85f-136e-4edd-b13e-5ac317a9013b",
   "metadata": {},
   "outputs": [],
   "source": [
    "sample_report"
   ]
  },
  {
   "cell_type": "code",
   "execution_count": null,
   "id": "fdb5de47-315a-4ed8-897f-a976e6bdcfc3",
   "metadata": {},
   "outputs": [],
   "source": [
    "sample_label = 'cardiomegaly'"
   ]
  },
  {
   "cell_type": "code",
   "execution_count": null,
   "id": "54ce6465-91dc-4e90-974f-6113ffacdb0a",
   "metadata": {},
   "outputs": [],
   "source": [
    "sample_embedding = model.encode([sample_report, sample_label])"
   ]
  },
  {
   "cell_type": "code",
   "execution_count": null,
   "id": "59770c55-d1a8-4a39-8842-cce133a98b3f",
   "metadata": {},
   "outputs": [],
   "source": [
    "cosine_similarity(sample_embedding)"
   ]
  },
  {
   "cell_type": "code",
   "execution_count": null,
   "id": "318e7b7f-8837-4939-9ddf-462e7e8eea57",
   "metadata": {},
   "outputs": [],
   "source": []
  }
 ],
 "metadata": {
  "kernelspec": {
   "display_name": "Python 3 (ipykernel)",
   "language": "python",
   "name": "python3"
  },
  "language_info": {
   "codemirror_mode": {
    "name": "ipython",
    "version": 3
   },
   "file_extension": ".py",
   "mimetype": "text/x-python",
   "name": "python",
   "nbconvert_exporter": "python",
   "pygments_lexer": "ipython3",
   "version": "3.11.9"
  }
 },
 "nbformat": 4,
 "nbformat_minor": 5
}
