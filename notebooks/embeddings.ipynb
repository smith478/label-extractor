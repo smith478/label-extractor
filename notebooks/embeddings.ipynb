{
 "cells": [
  {
   "cell_type": "code",
   "execution_count": null,
   "id": "acdd3f90-d8ef-40e1-b235-b7d7424c47e1",
   "metadata": {},
   "outputs": [],
   "source": [
    "import sys\n",
    "sys.path.append('..') "
   ]
  },
  {
   "cell_type": "code",
   "execution_count": null,
   "id": "babda44a-1ec0-4760-a666-035383a9cce8",
   "metadata": {},
   "outputs": [],
   "source": [
    "import numpy as np\n",
    "import pandas as pd\n",
    "from sklearn.metrics.pairwise import cosine_similarity\n",
    "from sklearn.metrics import classification_report"
   ]
  },
  {
   "cell_type": "code",
   "execution_count": null,
   "id": "76742113-315d-4061-a21f-4c5ec9d61034",
   "metadata": {},
   "outputs": [],
   "source": [
    "from embeddings import get_embeddings, compute_similarity"
   ]
  },
  {
   "cell_type": "code",
   "execution_count": null,
   "id": "bcd14faa-a0cd-4933-9d71-a6148f125476",
   "metadata": {},
   "outputs": [],
   "source": [
    "model_paths = [\n",
    "    # '../models/Alibaba-NLP/gte-Qwen2-7B-instruct',\n",
    "    '../models/intfloat/e5-base-v2',\n",
    "    '../models/nomic-ai/nomic-embed-text-v1.5',\n",
    "    '../models/sentence-transformers/all-MiniLM-L6-v2',\n",
    "    '../models/sentence-transformers/all-MiniLM-L12-v2'\n",
    "]"
   ]
  },
  {
   "cell_type": "code",
   "execution_count": null,
   "id": "c5fd6b1e-271f-46d3-a348-05eef2ef2d48",
   "metadata": {},
   "outputs": [],
   "source": [
    "MODEL_PATH = model_paths[0]"
   ]
  },
  {
   "cell_type": "markdown",
   "id": "e959a2f2-eb47-4030-9d2b-439d13f6bae7",
   "metadata": {},
   "source": [
    "## Load models\n",
    "\n",
    "We will load our model from disk. To download a new sentence transformer model, use `download_sentence_transformer_model.py` in the root of the project"
   ]
  },
  {
   "cell_type": "code",
   "execution_count": null,
   "id": "7a51e374-e2ae-4985-b1a9-4918ec264973",
   "metadata": {},
   "outputs": [],
   "source": [
    "from sentence_transformers import SentenceTransformer\n",
    "\n",
    "def load_sentence_transformer_model_from_disk(save_directory):\n",
    "    \"\"\"\n",
    "    Loads a pre-trained Sentence Transformer model from disk.\n",
    "\n",
    "    Args:\n",
    "    save_directory (str): The directory where the model is saved.\n",
    "\n",
    "    Returns:\n",
    "    model: The loaded pre-trained Sentence Transformer model.\n",
    "    \"\"\"\n",
    "    # Load the model\n",
    "    model = SentenceTransformer(save_directory)\n",
    "    \n",
    "    print(f\"Sentence Transformer model loaded from {save_directory}\")\n",
    "    return model"
   ]
  },
  {
   "cell_type": "code",
   "execution_count": null,
   "id": "ee53f3f1-00d4-4c8a-810d-3e18b0d74078",
   "metadata": {},
   "outputs": [],
   "source": [
    "model = load_sentence_transformer_model_from_disk(save_directory=MODEL_PATH)"
   ]
  },
  {
   "cell_type": "markdown",
   "id": "c6a3b36b-e3bd-4c68-b911-397281fda2bd",
   "metadata": {},
   "source": [
    "## Get embeddings"
   ]
  },
  {
   "cell_type": "code",
   "execution_count": null,
   "id": "0ad06d4a-35aa-476f-888e-caffaa3a8d2b",
   "metadata": {},
   "outputs": [],
   "source": [
    "embedding_1 = model.encode(['This is a sentence.', 'This is another sentence.'])"
   ]
  },
  {
   "cell_type": "code",
   "execution_count": null,
   "id": "9db2b8cb-6c50-4077-b32c-1ed9f51e2d77",
   "metadata": {},
   "outputs": [],
   "source": [
    "embedding_1.shape"
   ]
  },
  {
   "cell_type": "markdown",
   "id": "ea13371f-af75-45a1-abba-139ed0183fd6",
   "metadata": {},
   "source": [
    "## Calculate the similarity between vectors"
   ]
  },
  {
   "cell_type": "code",
   "execution_count": null,
   "id": "453d5ae3-2530-4f6a-a093-b9734027b066",
   "metadata": {},
   "outputs": [],
   "source": [
    "similarity = cosine_similarity(embedding_1)"
   ]
  },
  {
   "cell_type": "code",
   "execution_count": null,
   "id": "cfcf7636-ff18-4779-a7ce-31207571a97d",
   "metadata": {},
   "outputs": [],
   "source": [
    "similarity"
   ]
  },
  {
   "cell_type": "markdown",
   "id": "197524c1-0961-40d5-858c-ba8769389f52",
   "metadata": {},
   "source": [
    "## Import radiology data"
   ]
  },
  {
   "cell_type": "code",
   "execution_count": null,
   "id": "b1346827-8ada-4c0f-a00f-29073584d547",
   "metadata": {},
   "outputs": [],
   "source": [
    "df = pd.read_csv('../data/ReportsDATASET.csv')"
   ]
  },
  {
   "cell_type": "code",
   "execution_count": null,
   "id": "81b4f931-e149-4b93-9681-4ced6f5bca2b",
   "metadata": {},
   "outputs": [],
   "source": [
    "sample_report = df['Text'][12]"
   ]
  },
  {
   "cell_type": "code",
   "execution_count": null,
   "id": "d8cea85f-136e-4edd-b13e-5ac317a9013b",
   "metadata": {},
   "outputs": [],
   "source": [
    "sample_report"
   ]
  },
  {
   "cell_type": "code",
   "execution_count": null,
   "id": "fdb5de47-315a-4ed8-897f-a976e6bdcfc3",
   "metadata": {},
   "outputs": [],
   "source": [
    "sample_label = 'cardiomegaly'"
   ]
  },
  {
   "cell_type": "code",
   "execution_count": null,
   "id": "54ce6465-91dc-4e90-974f-6113ffacdb0a",
   "metadata": {},
   "outputs": [],
   "source": [
    "sample_embedding = model.encode([sample_report, sample_label])"
   ]
  },
  {
   "cell_type": "code",
   "execution_count": null,
   "id": "59770c55-d1a8-4a39-8842-cce133a98b3f",
   "metadata": {},
   "outputs": [],
   "source": [
    "cosine_similarity(sample_embedding)"
   ]
  },
  {
   "cell_type": "markdown",
   "id": "ebd32fa3-f9af-496e-a436-efad7b7aa774",
   "metadata": {},
   "source": [
    "## Compare model on reports"
   ]
  },
  {
   "cell_type": "code",
   "execution_count": null,
   "id": "68b72acf-0c60-49b8-840a-83d47e4589fe",
   "metadata": {},
   "outputs": [],
   "source": [
    "labels = [\"pulmonary_edema\", \"consolidation\", \"pleural_effusion\", \"pneumothorax\", \"cardiomegaly\"]"
   ]
  },
  {
   "cell_type": "code",
   "execution_count": null,
   "id": "05a13979-36af-423b-84f7-78cb44f45d01",
   "metadata": {},
   "outputs": [],
   "source": [
    "reports = [\n",
    "    \"\"\"\n",
    "    RADIOLOGY REPORT\n",
    "\n",
    "    Exam\n",
    "    PA and lateral chest radiograph (2 views) (2 images) Date: XXXX, XXXX at XXXX hours Indication: Chest pain. Comparison: Chest radiograph from XXXX, XXXX. Findings: The cardiac silhouette is borderline enlarged. Otherwise, there is no focal opacity. Mediastinal contours are within normal limits. There is no large pleural effusion. No pneumothorax. Transcribed by - PSCB Transcription Date - XXXX\n",
    "\n",
    "    IMPRESSION\n",
    "    Borderline enlargement of the cardiac silhouette without acute pulmonary disease. DICTATED BY : Dr. XXXX XXXX XXXX XXXX XXXX ELECTRONICALLY SIGNED XXXX. XXXX XXXX XXXX XXXX XXXX TRANSCRIBED XXXX 11 XXXX XXXX  RADRES XXXX\n",
    "\n",
    "    SIGNATURE\n",
    "    XXXX\n",
    "    \"\"\",\n",
    "    \"\"\"\n",
    "    RADIOLOGY REPORT\n",
    "\n",
    "    Exam\n",
    "    PA and lateral chest radiograph (2 views) (2 images) Date: XXXX, XXXX at XXXX hours Indication: Shortness of breath. Comparison: Chest radiograph from XXXX, XXXX. Findings: There is evidence of bilateral pulmonary edema. The cardiac silhouette is normal. No pleural effusion or pneumothorax. Transcribed by - PSCB Transcription Date - XXXX\n",
    "\n",
    "    IMPRESSION\n",
    "    Bilateral pulmonary edema. No evidence of pleural effusion or pneumothorax. DICTATED BY : Dr. XXXX XXXX XXXX XXXX XXXX ELECTRONICALLY SIGNED XXXX. XXXX XXXX XXXX XXXX XXXX TRANSCRIBED XXXX 11 XXXX XXXX  RADRES XXXX\n",
    "\n",
    "    SIGNATURE\n",
    "    XXXX\n",
    "    \"\"\",\n",
    "    \"\"\"\n",
    "    RADIOLOGY REPORT\n",
    "\n",
    "    Exam\n",
    "    PA and lateral chest radiograph (2 views) (2 images) Date: XXXX, XXXX at XXXX hours Indication: Cough and fever. Comparison: Chest radiograph from XXXX, XXXX. Findings: There is consolidation in the right lower lobe. The cardiac silhouette is normal. No pleural effusion or pneumothorax. Transcribed by - PSCB Transcription Date - XXXX\n",
    "\n",
    "    IMPRESSION\n",
    "    Right lower lobe consolidation. No pleural effusion or pneumothorax. DICTATED BY : Dr. XXXX XXXX XXXX XXXX XXXX ELECTRONICALLY SIGNED XXXX. XXXX XXXX XXXX XXXX XXXX TRANSCRIBED XXXX 11 XXXX XXXX  RADRES XXXX\n",
    "\n",
    "    SIGNATURE\n",
    "    XXXX\n",
    "    \"\"\",\n",
    "    \"\"\"\n",
    "    RADIOLOGY REPORT\n",
    "\n",
    "    Exam\n",
    "    PA and lateral chest radiograph (2 views) (2 images) Date: XXXX, XXXX at XXXX hours Indication: Chest pain. Comparison: Chest radiograph from XXXX, XXXX. Findings: There is a small left pleural effusion. The cardiac silhouette is normal. No pneumothorax. Transcribed by - PSCB Transcription Date - XXXX\n",
    "\n",
    "    IMPRESSION\n",
    "    Small left pleural effusion. No pneumothorax. DICTATED BY : Dr. XXXX XXXX XXXX XXXX XXXX ELECTRONICALLY SIGNED XXXX. XXXX XXXX XXXX XXXX XXXX TRANSCRIBED XXXX 11 XXXX XXXX  RADRES XXXX\n",
    "\n",
    "    SIGNATURE\n",
    "    XXXX\n",
    "    \"\"\",\n",
    "    \"\"\"\n",
    "    RADIOLOGY REPORT\n",
    "\n",
    "    Exam\n",
    "    PA and lateral chest radiograph (2 views) (2 images) Date: XXXX, XXXX at XXXX hours Indication: Trauma. Comparison: Chest radiograph from XXXX, XXXX. Findings: There is a right-sided pneumothorax. The cardiac silhouette is normal. No pleural effusion. Transcribed by - PSCB Transcription Date - XXXX\n",
    "\n",
    "    IMPRESSION\n",
    "    Right-sided pneumothorax. No pleural effusion. DICTATED BY : Dr. XXXX XXXX XXXX XXXX XXXX ELECTRONICALLY SIGNED XXXX. XXXX XXXX XXXX XXXX XXXX TRANSCRIBED XXXX 11 XXXX XXXX  RADRES XXXX\n",
    "\n",
    "    SIGNATURE\n",
    "    XXXX\n",
    "    \"\"\",\n",
    "    \"\"\"\n",
    "    RADIOLOGY REPORT\n",
    "\n",
    "    Exam\n",
    "    PA and lateral chest radiograph (2 views) (2 images) Date: XXXX, XXXX at XXXX hours Indication: Shortness of breath and leg swelling. Comparison: Chest radiograph from XXXX, XXXX. Findings: There is moderate pulmonary edema and bilateral pleural effusion. The cardiac silhouette is enlarged. No pneumothorax. Transcribed by - PSCB Transcription Date - XXXX\n",
    "\n",
    "    IMPRESSION\n",
    "    Moderate pulmonary edema and bilateral pleural effusion. Cardiomegaly. No pneumothorax. DICTATED BY : Dr. XXXX XXXX XXXX XXXX XXXX ELECTRONICALLY SIGNED XXXX. XXXX XXXX XXXX XXXX XXXX TRANSCRIBED XXXX 11 XXXX XXXX  RADRES XXXX\n",
    "\n",
    "    SIGNATURE\n",
    "    XXXX\n",
    "    \"\"\",\n",
    "    \"\"\"\n",
    "    RADIOLOGY REPORT\n",
    "\n",
    "    Exam\n",
    "    PA and lateral chest radiograph (2 views) (2 images) Date: XXXX, XXXX at XXXX hours Indication: Fever and cough. Comparison: Chest radiograph from XXXX, XXXX. Findings: There is a consolidation in the left upper lobe. The cardiac silhouette is normal. No pleural effusion or pneumothorax. Transcribed by - PSCB Transcription Date - XXXX\n",
    "\n",
    "    IMPRESSION\n",
    "    Left upper lobe consolidation. No pleural effusion or pneumothorax. DICTATED BY : Dr. XXXX XXXX XXXX XXXX XXXX ELECTRONICALLY SIGNED XXXX. XXXX XXXX XXXX XXXX XXXX TRANSCRIBED XXXX 11 XXXX XXXX  RADRES XXXX\n",
    "\n",
    "    SIGNATURE\n",
    "    XXXX\n",
    "    \"\"\",\n",
    "    \"\"\"\n",
    "    RADIOLOGY REPORT\n",
    "\n",
    "    Exam\n",
    "    PA and lateral chest radiograph (2 views) (2 images) Date: XXXX, XXXX at XXXX hours Indication: Routine check-up. Comparison: Chest radiograph from XXXX, XXXX. Findings: The cardiac silhouette is normal. No focal opacity. Mediastinal contours are within normal limits. There is no pleural effusion or pneumothorax. Transcribed by - PSCB Transcription Date - XXXX\n",
    "\n",
    "    IMPRESSION\n",
    "    Normal chest radiograph. No abnormalities detected. DICTATED BY : Dr. XXXX XXXX XXXX XXXX XXXX ELECTRONICALLY SIGNED XXXX. XXXX XXXX XXXX XXXX XXXX TRANSCRIBED XXXX 11 XXXX XXXX  RADRES XXXX\n",
    "\n",
    "    SIGNATURE\n",
    "    XXXX\n",
    "    \"\"\",\n",
    "    \"\"\"\n",
    "    RADIOLOGY REPORT\n",
    "\n",
    "    Exam\n",
    "    PA and lateral chest radiograph (2 views) (2 images) Date: XXXX, XXXX at XXXX hours Indication: Dyspnea. Comparison: Chest radiograph from XXXX, XXXX. Findings: There is mild cardiomegaly. Bilateral pleural effusions are present. No evidence of pneumothorax. Transcribed by - PSCB Transcription Date - XXXX\n",
    "\n",
    "    IMPRESSION\n",
    "    Mild cardiomegaly with bilateral pleural effusions. No pneumothorax. DICTATED BY : Dr. XXXX XXXX XXXX XXXX XXXX ELECTRONICALLY SIGNED XXXX. XXXX XXXX XXXX XXXX XXXX TRANSCRIBED XXXX 11 XXXX XXXX  RADRES XXXX\n",
    "\n",
    "    SIGNATURE\n",
    "    XXXX\n",
    "    \"\"\",\n",
    "    \"\"\"\n",
    "    RADIOLOGY REPORT\n",
    "\n",
    "    Exam\n",
    "    PA and lateral chest radiograph (2 views) (2 images) Date: XXXX, XXXX at XXXX hours Indication: Trauma. Comparison: Chest radiograph from XXXX, XXXX. Findings: There is a left-sided pneumothorax. The cardiac silhouette is normal. No pleural effusion. Transcribed by - PSCB Transcription Date - XXXX\n",
    "\n",
    "    IMPRESSION\n",
    "    Left-sided pneumothorax. No pleural effusion. DICTATED BY : Dr. XXXX XXXX XXXX XXXX XXXX ELECTRONICALLY SIGNED XXXX. XXXX XXXX XXXX XXXX XXXX TRANSCRIBED XXXX 11 XXXX XXXX  RADRES XXXX\n",
    "\n",
    "    SIGNATURE\n",
    "    XXXX\n",
    "    \"\"\"\n",
    "]\n",
    "\n",
    "# Ground Truth Labels for each report\n",
    "ground_truth = [\n",
    "    [\"cardiomegaly\"],\n",
    "    [\"pulmonary_edema\"],\n",
    "    [\"consolidation\"],\n",
    "    [\"pleural_effusion\"],\n",
    "    [\"pneumothorax\"],\n",
    "    [\"pulmonary_edema\", \"pleural_effusion\", \"cardiomegaly\"],\n",
    "    [\"consolidation\"],\n",
    "    [],\n",
    "    [\"cardiomegaly\", \"pleural_effusion\"],\n",
    "    [\"pneumothorax\"]\n",
    "]\n"
   ]
  },
  {
   "cell_type": "code",
   "execution_count": null,
   "id": "28a3e302-0fbc-421c-9a99-e0ce9dc5abcf",
   "metadata": {},
   "outputs": [],
   "source": [
    "def compute_similarity(report_embeddings, label_embeddings):\n",
    "    \"\"\"\n",
    "    Computes cosine similarity between report embeddings and label embeddings.\n",
    "    \"\"\"\n",
    "    return cosine_similarity(report_embeddings, label_embeddings)\n",
    "\n",
    "def evaluate_model(report_embeddings, label_embeddings, labels, ground_truth):\n",
    "    \"\"\"\n",
    "    Evaluates the model by comparing predicted labels to ground truth.\n",
    "    \"\"\"\n",
    "    similarities = compute_similarity(report_embeddings, label_embeddings)\n",
    "    predictions = []\n",
    "\n",
    "    for sim in similarities:\n",
    "        predicted_labels = []\n",
    "        for i, score in enumerate(sim):\n",
    "            if score > 0.5:  # Example threshold, can be tuned\n",
    "                predicted_labels.append(labels[i])\n",
    "        predictions.append(predicted_labels)\n",
    "\n",
    "    y_true = []\n",
    "    y_pred = []\n",
    "\n",
    "    for true_labels, pred_labels in zip(ground_truth, predictions):\n",
    "        y_true.extend([1 if label in true_labels else 0 for label in labels])\n",
    "        y_pred.extend([1 if label in pred_labels else 0 for label in labels])\n",
    "\n",
    "    print(y_true, y_pred, labels)\n",
    "    print(classification_report(y_true, y_pred, target_names=labels))"
   ]
  },
  {
   "cell_type": "code",
   "execution_count": null,
   "id": "0a3c6b6f-5fe5-4b50-89ce-3ed31009cb19",
   "metadata": {},
   "outputs": [],
   "source": [
    "for model_path in model_paths:\n",
    "    model = load_sentence_transformer_model_from_disk(model_path)\n",
    "    report_embeddings = get_embeddings(model, reports)\n",
    "    label_embeddings = get_embeddings(model, labels)\n",
    "    \n",
    "    print(f\"Evaluating model: {model_path}\")\n",
    "    evaluate_model(report_embeddings, label_embeddings, labels, ground_truth)"
   ]
  },
  {
   "cell_type": "code",
   "execution_count": null,
   "id": "dcd84ae4-3e3b-42f3-9c05-24c00491525d",
   "metadata": {},
   "outputs": [],
   "source": []
  }
 ],
 "metadata": {
  "kernelspec": {
   "display_name": "Python 3 (ipykernel)",
   "language": "python",
   "name": "python3"
  },
  "language_info": {
   "codemirror_mode": {
    "name": "ipython",
    "version": 3
   },
   "file_extension": ".py",
   "mimetype": "text/x-python",
   "name": "python",
   "nbconvert_exporter": "python",
   "pygments_lexer": "ipython3",
   "version": "3.11.9"
  }
 },
 "nbformat": 4,
 "nbformat_minor": 5
}
