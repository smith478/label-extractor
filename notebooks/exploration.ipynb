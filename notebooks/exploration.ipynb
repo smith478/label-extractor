{
 "cells": [
  {
   "cell_type": "code",
   "execution_count": 1,
   "id": "a5c2ce46-786c-4413-b762-33b5f00df34c",
   "metadata": {},
   "outputs": [],
   "source": [
    "import pandas as pd"
   ]
  },
  {
   "cell_type": "code",
   "execution_count": 2,
   "id": "d720ff7e-fc49-4537-9e32-ee29987576d0",
   "metadata": {},
   "outputs": [],
   "source": [
    "df = pd.read_csv('../data/ReportsDATASET.csv')"
   ]
  },
  {
   "cell_type": "code",
   "execution_count": 3,
   "id": "0f41ac53-50d4-4c86-9a57-ef50b7e3104d",
   "metadata": {},
   "outputs": [
    {
     "data": {
      "text/html": [
       "<div>\n",
       "<style scoped>\n",
       "    .dataframe tbody tr th:only-of-type {\n",
       "        vertical-align: middle;\n",
       "    }\n",
       "\n",
       "    .dataframe tbody tr th {\n",
       "        vertical-align: top;\n",
       "    }\n",
       "\n",
       "    .dataframe thead th {\n",
       "        text-align: right;\n",
       "    }\n",
       "</style>\n",
       "<table border=\"1\" class=\"dataframe\">\n",
       "  <thead>\n",
       "    <tr style=\"text-align: right;\">\n",
       "      <th></th>\n",
       "      <th>Text</th>\n",
       "    </tr>\n",
       "  </thead>\n",
       "  <tbody>\n",
       "    <tr>\n",
       "      <th>0</th>\n",
       "      <td>\\nChest PA-Lat XR\\n\\nImaging Study\\nXray Chest...</td>\n",
       "    </tr>\n",
       "    <tr>\n",
       "      <th>1</th>\n",
       "      <td>EXAM(S): Chest, 2 views, frontal and lateral\\n...</td>\n",
       "    </tr>\n",
       "    <tr>\n",
       "      <th>2</th>\n",
       "      <td>\\nExam\\nXray Chest PA and Lateral\\n\\nDate\\nXXX...</td>\n",
       "    </tr>\n",
       "    <tr>\n",
       "      <th>3</th>\n",
       "      <td>\\nRADIOLOGY REPORT\\n\\nExamination\\nPA and late...</td>\n",
       "    </tr>\n",
       "    <tr>\n",
       "      <th>4</th>\n",
       "      <td>\\nChest PA-Lat XR\\n\\nImaging Study\\nXray Chest...</td>\n",
       "    </tr>\n",
       "    <tr>\n",
       "      <th>...</th>\n",
       "      <td>...</td>\n",
       "    </tr>\n",
       "    <tr>\n",
       "      <th>1979</th>\n",
       "      <td>\\nChest PA-Lat XR\\n\\nImaging Study\\nXray Chest...</td>\n",
       "    </tr>\n",
       "    <tr>\n",
       "      <th>1980</th>\n",
       "      <td>\\nExam\\nPA and lateral views of the chest, XXX...</td>\n",
       "    </tr>\n",
       "    <tr>\n",
       "      <th>1981</th>\n",
       "      <td>\\nRADIOLOGY REPORT\\n\\nExam\\nPA and lateral che...</td>\n",
       "    </tr>\n",
       "    <tr>\n",
       "      <th>1982</th>\n",
       "      <td>\\nSIGNATURE\\nXXXX\\n\\nRADIOLOGY REPORT\\n\\nHisto...</td>\n",
       "    </tr>\n",
       "    <tr>\n",
       "      <th>1983</th>\n",
       "      <td>\\nRADIOLOGY REPORT\\n\\nEXAM\\nPA and lateral vie...</td>\n",
       "    </tr>\n",
       "  </tbody>\n",
       "</table>\n",
       "<p>1984 rows × 1 columns</p>\n",
       "</div>"
      ],
      "text/plain": [
       "                                                   Text\n",
       "0     \\nChest PA-Lat XR\\n\\nImaging Study\\nXray Chest...\n",
       "1     EXAM(S): Chest, 2 views, frontal and lateral\\n...\n",
       "2     \\nExam\\nXray Chest PA and Lateral\\n\\nDate\\nXXX...\n",
       "3     \\nRADIOLOGY REPORT\\n\\nExamination\\nPA and late...\n",
       "4     \\nChest PA-Lat XR\\n\\nImaging Study\\nXray Chest...\n",
       "...                                                 ...\n",
       "1979  \\nChest PA-Lat XR\\n\\nImaging Study\\nXray Chest...\n",
       "1980  \\nExam\\nPA and lateral views of the chest, XXX...\n",
       "1981  \\nRADIOLOGY REPORT\\n\\nExam\\nPA and lateral che...\n",
       "1982  \\nSIGNATURE\\nXXXX\\n\\nRADIOLOGY REPORT\\n\\nHisto...\n",
       "1983  \\nRADIOLOGY REPORT\\n\\nEXAM\\nPA and lateral vie...\n",
       "\n",
       "[1984 rows x 1 columns]"
      ]
     },
     "execution_count": 3,
     "metadata": {},
     "output_type": "execute_result"
    }
   ],
   "source": [
    "df"
   ]
  },
  {
   "cell_type": "code",
   "execution_count": 4,
   "id": "ad68df1d-c6cb-49e3-89fd-2257e4fad602",
   "metadata": {},
   "outputs": [
    {
     "data": {
      "text/plain": [
       "'\\nChest PA-Lat XR\\n\\nImaging Study\\nXray Chest PA and Lateral\\nExam: 2 views of the chest XXXX/XXXX.\\n \\nComparison: None.\\n \\nIndication: Positive TB test\\n \\nFindings:\\nThe cardiac silhouette and mediastinum size are within normal limits.\\nThere is no pulmonary edema. There is no focal consolidation. There\\nare no XXXX of a pleural effusion. There is no evidence of\\npneumothorax.\\n \\nImpression:\\nNormal chest x-XXXX. \\nThis examination and reported findings have been reviewed and\\nconfirmed by the undersigned.\\n\\n'"
      ]
     },
     "execution_count": 4,
     "metadata": {},
     "output_type": "execute_result"
    }
   ],
   "source": [
    "df['Text'][0]"
   ]
  },
  {
   "cell_type": "code",
   "execution_count": null,
   "id": "1d648f03-0ee3-4884-abfd-deec3ca1a25f",
   "metadata": {},
   "outputs": [],
   "source": []
  }
 ],
 "metadata": {
  "kernelspec": {
   "display_name": "Python 3 (ipykernel)",
   "language": "python",
   "name": "python3"
  },
  "language_info": {
   "codemirror_mode": {
    "name": "ipython",
    "version": 3
   },
   "file_extension": ".py",
   "mimetype": "text/x-python",
   "name": "python",
   "nbconvert_exporter": "python",
   "pygments_lexer": "ipython3",
   "version": "3.7.11"
  }
 },
 "nbformat": 4,
 "nbformat_minor": 5
}
