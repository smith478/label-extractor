{
 "cells": [
  {
   "cell_type": "code",
   "execution_count": null,
   "id": "a5c2ce46-786c-4413-b762-33b5f00df34c",
   "metadata": {},
   "outputs": [],
   "source": [
    "import pandas as pd"
   ]
  },
  {
   "cell_type": "code",
   "execution_count": null,
   "id": "d720ff7e-fc49-4537-9e32-ee29987576d0",
   "metadata": {},
   "outputs": [],
   "source": [
    "df = pd.read_csv('../data/ReportsDATASET.csv')"
   ]
  },
  {
   "cell_type": "code",
   "execution_count": null,
   "id": "0f41ac53-50d4-4c86-9a57-ef50b7e3104d",
   "metadata": {},
   "outputs": [],
   "source": [
    "df"
   ]
  },
  {
   "cell_type": "code",
   "execution_count": null,
   "id": "ad68df1d-c6cb-49e3-89fd-2257e4fad602",
   "metadata": {},
   "outputs": [],
   "source": [
    "df['Text'][0]"
   ]
  },
  {
   "cell_type": "markdown",
   "id": "de743e7f-b18e-44ab-8c4e-d6d9b5748969",
   "metadata": {},
   "source": [
    "## Run llama 3 locally\n",
    "\n",
    "- install `ollama`\n",
    "- run `ollama pull llama3` to pull down the llama 3 8B model \n",
    "- start the model running using `ollama run llama3`"
   ]
  },
  {
   "cell_type": "code",
   "execution_count": null,
   "id": "6e51dcb6-8346-471d-9a5b-02abc26e2c1b",
   "metadata": {},
   "outputs": [],
   "source": [
    "import requests\n",
    "import json"
   ]
  },
  {
   "cell_type": "code",
   "execution_count": null,
   "id": "b121a070-9d32-4ac0-b957-261ceadfc46f",
   "metadata": {},
   "outputs": [],
   "source": [
    "url = \"http://localhost:11434/api/chat\""
   ]
  },
  {
   "cell_type": "code",
   "execution_count": null,
   "id": "54f8cf18-804a-4ecb-b3f5-669cf3158619",
   "metadata": {},
   "outputs": [],
   "source": [
    "def llama3(prompt: str) -> str:\n",
    "    data = {\n",
    "        \"model\": \"llama3\",\n",
    "        \"messages\": [\n",
    "            {\n",
    "                \"role\": \"user\",\n",
    "                \"content\": prompt\n",
    "            }\n",
    "        ],\n",
    "        \"stream\": False\n",
    "    }\n",
    "    \n",
    "    headers = {\n",
    "        'Content-Type': 'application/json'\n",
    "    }\n",
    "    \n",
    "    response = requests.post(url, headers=headers, json=data)\n",
    "    \n",
    "    return response.json()['message']['content']"
   ]
  },
  {
   "cell_type": "code",
   "execution_count": null,
   "id": "18e51af8-456a-4b77-a0cd-2a46a41bfb47",
   "metadata": {},
   "outputs": [],
   "source": [
    "response = llama3(\"who wrote the book the godfather?\")"
   ]
  },
  {
   "cell_type": "code",
   "execution_count": null,
   "id": "b8d4f297-b911-469a-bdbb-21a17147e9be",
   "metadata": {},
   "outputs": [],
   "source": [
    "response"
   ]
  },
  {
   "cell_type": "markdown",
   "id": "28517819-f505-40bf-9fb8-24cd3cf2a48d",
   "metadata": {},
   "source": [
    "### Extract labels using llama 3"
   ]
  },
  {
   "cell_type": "code",
   "execution_count": null,
   "id": "b1c933ec-5b2b-4d7f-afbe-86525fe1a5af",
   "metadata": {},
   "outputs": [],
   "source": [
    "import xml.etree.ElementTree as ET"
   ]
  },
  {
   "cell_type": "code",
   "execution_count": null,
   "id": "9f0856a2-778c-417e-a691-53d53764f151",
   "metadata": {},
   "outputs": [],
   "source": [
    "# Define the list of abnormalities\n",
    "abnormalities = [\"pulmonary edema\", \"consolidation\", \"pleural effusion\", \"pneumothorax\", \"cardiomegaly\"]"
   ]
  },
  {
   "cell_type": "code",
   "execution_count": null,
   "id": "fe5675f4-2c43-47c2-bc28-f342cc340a7c",
   "metadata": {},
   "outputs": [],
   "source": [
    "def classify_abnormalities(report):\n",
    "    global abnormalities\n",
    "    \n",
    "    # Initialize results\n",
    "    results = {abnormality: 0 for abnormality in abnormalities}\n",
    "    \n",
    "    # Prepare the prompt for the GPT-4 model\n",
    "    prompt = f\"Read the following radiology report and identify the presence or absence of the following abnormalities: {', '.join(abnormalities)}.\\n\\nReport:\\n{report}\\n\\nOutput the results, formatted in xml, with each of the abnormalities with 0 for absence and 1 for presence. The output should be xml with no other text.\"\n",
    "    \n",
    "    # Get the classification results from llama 3\n",
    "    response = llama3(prompt)\n",
    "    \n",
    "    return response"
   ]
  },
  {
   "cell_type": "code",
   "execution_count": null,
   "id": "6e463097-c832-4a81-9e73-91da413ed978",
   "metadata": {},
   "outputs": [],
   "source": [
    "def clean_xml_string(xml_string):\n",
    "    \"\"\"\n",
    "    Clean the XML string to ensure it is well-formed.\n",
    "    \"\"\"\n",
    "    # Remove leading/trailing whitespace\n",
    "    xml_string = xml_string.strip()\n",
    "    \n",
    "    # Normalize the XML string\n",
    "    xml_string = xml_string.replace('-', '_').lower()\n",
    "    xml_string = xml_string.replace('pulmonary edema', 'pulmonary_edema').lower()\n",
    "    xml_string = xml_string.replace('pulmonaryedema', 'pulmonary_edema').lower()\n",
    "    xml_string = xml_string.replace('pleural effusion', 'pleural_effusion').lower()\n",
    "    xml_string = xml_string.replace('pleuraleffusion', 'pleural_effusion').lower()\n",
    "    \n",
    "    # Additional cleaning steps can be added here if needed\n",
    "    \n",
    "    return xml_string\n",
    "\n",
    "def extract_abnormalities_from_xml(xml_string):\n",
    "    \"\"\"\n",
    "    This function extracts abnormalities and their values from the given XML string.\n",
    "    \"\"\"\n",
    "    # Clean the XML string\n",
    "    xml_string = clean_xml_string(xml_string)\n",
    "    \n",
    "    # Define the list of abnormalities we're interested in\n",
    "    abnormalities = [\"pulmonary_edema\", \"consolidation\", \"pleural_effusion\", \"pneumothorax\", \"cardiomegaly\"]\n",
    "    \n",
    "    # Initialize the results dictionary\n",
    "    results = {abnormality: 0 for abnormality in abnormalities}\n",
    "    \n",
    "    try:\n",
    "        # Parse the XML\n",
    "        root = ET.fromstring(xml_string)\n",
    "        \n",
    "        # Extract values\n",
    "        for abnormality in abnormalities:\n",
    "            element = root.find(f\".//{abnormality}\")\n",
    "            if element is not None:\n",
    "                results[abnormality] = int(element.text.strip())\n",
    "    except ET.ParseError as e:\n",
    "        print(f\"Error parsing XML: {e}\")\n",
    "        print(f\"XML string: {xml_string}\")\n",
    "    \n",
    "    return results"
   ]
  },
  {
   "cell_type": "code",
   "execution_count": null,
   "id": "ccb9e282-49fc-4bfb-953a-a525787712a0",
   "metadata": {},
   "outputs": [],
   "source": [
    "def process_radiology_reports(df):\n",
    "    \"\"\"\n",
    "    This function processes the radiology reports in the dataframe and extracts the abnormalities.\n",
    "    \"\"\"\n",
    "    # Initialize a list to store the results\n",
    "    data = []\n",
    "\n",
    "    for index, row in df.iterrows():\n",
    "        try:\n",
    "            report_text = row['Text']\n",
    "\n",
    "            # Here we assume `run_llama3` is your function that processes the report text and returns the XML\n",
    "            xml_output = classify_abnormalities(report_text)\n",
    "\n",
    "            # Extract abnormalities from the XML\n",
    "            abnormalities = extract_abnormalities_from_xml(xml_output)\n",
    "\n",
    "            # Combine the original text with the extracted abnormalities\n",
    "            data.append({**{'Text': report_text}, **abnormalities})\n",
    "        except:\n",
    "            print(f'WARNING! Issue with index: {index}')\n",
    "    \n",
    "    # Create a new dataframe from the results\n",
    "    new_df = pd.DataFrame(data)\n",
    "    \n",
    "    return new_df"
   ]
  },
  {
   "cell_type": "code",
   "execution_count": null,
   "id": "3dea374c-5b54-414a-8be5-6f9246f0dca1",
   "metadata": {},
   "outputs": [],
   "source": [
    "df_sample = df[:40].copy()"
   ]
  },
  {
   "cell_type": "code",
   "execution_count": null,
   "id": "6033d5ce-b728-4bd7-b79e-8e6461075b74",
   "metadata": {},
   "outputs": [],
   "source": [
    "df_rad = process_radiology_reports(df_sample)"
   ]
  },
  {
   "cell_type": "code",
   "execution_count": null,
   "id": "91ed7dba-409d-48a2-a666-98222d2e4361",
   "metadata": {},
   "outputs": [],
   "source": [
    "df_rad"
   ]
  },
  {
   "cell_type": "code",
   "execution_count": null,
   "id": "2f18fcb4-8f04-4b5e-be12-d011981797a8",
   "metadata": {},
   "outputs": [],
   "source": [
    "df_sample['Text'][12]"
   ]
  },
  {
   "cell_type": "code",
   "execution_count": null,
   "id": "f763b7a6-438a-41e7-bf29-4ddd34210e7d",
   "metadata": {},
   "outputs": [],
   "source": []
  }
 ],
 "metadata": {
  "kernelspec": {
   "display_name": "Python 3 (ipykernel)",
   "language": "python",
   "name": "python3"
  },
  "language_info": {
   "codemirror_mode": {
    "name": "ipython",
    "version": 3
   },
   "file_extension": ".py",
   "mimetype": "text/x-python",
   "name": "python",
   "nbconvert_exporter": "python",
   "pygments_lexer": "ipython3",
   "version": "3.7.11"
  }
 },
 "nbformat": 4,
 "nbformat_minor": 5
}
